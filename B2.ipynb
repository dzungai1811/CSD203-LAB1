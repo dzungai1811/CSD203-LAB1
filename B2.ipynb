{
 "cells": [
  {
   "cell_type": "code",
   "execution_count": 1,
   "id": "7c78cc6c",
   "metadata": {},
   "outputs": [
    {
     "name": "stdout",
     "output_type": "stream",
     "text": [
      "apple -> orange -> banana -> None\n"
     ]
    }
   ],
   "source": [
    "class Node:\n",
    "    def __init__(self, data=None):\n",
    "        self.data = data\n",
    "        self.next = None\n",
    "\n",
    "class SinglyLinkedList:\n",
    "    def __init__(self):\n",
    "        self.head = None\n",
    "        self.tail = None\n",
    "\n",
    "    def addToHead(self, x):\n",
    "        new_node = Node(x)\n",
    "        new_node.next = self.head\n",
    "        self.head = new_node\n",
    "        if self.tail is None:\n",
    "            self.tail = new_node\n",
    "\n",
    "    def addToTail(self, x):\n",
    "        new_node = Node(x)\n",
    "        if self.tail:\n",
    "            self.tail.next = new_node\n",
    "        self.tail = new_node\n",
    "        if self.head is None:\n",
    "            self.head = new_node\n",
    "\n",
    "    def addAfter(self, p, x):\n",
    "        current = self.head\n",
    "        while current and current.data != p:\n",
    "            current = current.next\n",
    "        if current:\n",
    "            new_node = Node(x)\n",
    "            new_node.next = current.next\n",
    "            current.next = new_node\n",
    "            if current == self.tail:\n",
    "                self.tail = new_node\n",
    "\n",
    "    def traverse(self):\n",
    "        current = self.head\n",
    "        while current:\n",
    "            print(current.data, end=\" -> \")\n",
    "            current = current.next\n",
    "        print(\"None\")\n",
    "sll_strings = SinglyLinkedList()\n",
    "sll_strings.addToHead(\"apple\")\n",
    "sll_strings.addToTail(\"banana\")\n",
    "sll_strings.addAfter(\"apple\", \"orange\")\n",
    "sll_strings.traverse()\n"
   ]
  },
  {
   "cell_type": "code",
   "execution_count": null,
   "id": "9a10306c",
   "metadata": {},
   "outputs": [],
   "source": []
  }
 ],
 "metadata": {
  "kernelspec": {
   "display_name": "Python 3 (ipykernel)",
   "language": "python",
   "name": "python3"
  },
  "language_info": {
   "codemirror_mode": {
    "name": "ipython",
    "version": 3
   },
   "file_extension": ".py",
   "mimetype": "text/x-python",
   "name": "python",
   "nbconvert_exporter": "python",
   "pygments_lexer": "ipython3",
   "version": "3.11.5"
  }
 },
 "nbformat": 4,
 "nbformat_minor": 5
}
